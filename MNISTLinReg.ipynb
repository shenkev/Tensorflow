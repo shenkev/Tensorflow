{
 "cells": [
  {
   "cell_type": "code",
   "execution_count": 2,
   "metadata": {},
   "outputs": [
    {
     "name": "stdout",
     "output_type": "stream",
     "text": [
      "Extracting MNIST_data/train-images-idx3-ubyte.gz\n",
      "Extracting MNIST_data/train-labels-idx1-ubyte.gz\n",
      "Extracting MNIST_data/t10k-images-idx3-ubyte.gz\n",
      "Extracting MNIST_data/t10k-labels-idx1-ubyte.gz\n"
     ]
    }
   ],
   "source": [
    "from tensorflow.examples.tutorials.mnist import input_data\n",
    "mnist = input_data.read_data_sets('MNIST_data', one_hot=True)"
   ]
  },
  {
   "cell_type": "code",
   "execution_count": 3,
   "metadata": {
    "collapsed": true
   },
   "outputs": [],
   "source": [
    "import tensorflow as tf\n",
    "sess = tf.InteractiveSession()"
   ]
  },
  {
   "cell_type": "code",
   "execution_count": 6,
   "metadata": {},
   "outputs": [],
   "source": [
    "x = tf.placeholder(tf.float32, shape=[None, 784]) \n",
    "# None refers to the number of rows in the matrix x which will be n for entire data or k for some batch size\n",
    "# we allow flexibility by specifying \"None\"\n",
    "# 784 refers to the number of features per image, which is 28x28 image\n",
    "y_true = tf.placeholder(tf.float32, shape=[None, 10])\n",
    "# 10 possible outputs: 0 to 9\n",
    "# The \"shape\" argument is optional but always good to specify for debugging\n",
    "\n",
    "W = tf.Variable(tf.zeros([784, 10])) # 10 vertical vectors with 784 features stacked horizontally\n",
    "b = tf.Variable(tf.zeros([10])) # I believe this could also be [1, 10] but vector row/column is casted automatically\n",
    "\n",
    "sess.run(tf.global_variables_initializer())"
   ]
  },
  {
   "cell_type": "code",
   "execution_count": 7,
   "metadata": {
    "collapsed": true
   },
   "outputs": [],
   "source": [
    "y_pred = tf.matmul(x, W) + b # tbh I'm uncomfortable with layer case x because it's almost always a matrix\n",
    "# let's scale the output to between 0 and 1 to interpret as a probability\n",
    "cross_entropy = tf.reduce_mean(tf.nn.softmax_cross_entropy_with_logits(labels=y_true, logits=y_pred))"
   ]
  },
  {
   "cell_type": "code",
   "execution_count": 9,
   "metadata": {},
   "outputs": [],
   "source": [
    "# so it looks like we're using the low level API that requires passing in the loss function\n",
    "# There are 3 ways to do this:\n",
    "# 1. use the low level API and define the loss, pick out a training algorithm and manually loop the training steps\n",
    "# 2. use a predefined model and simply pass in data\n",
    "# 3. construct your own model class\n",
    "\n",
    "train_step = tf.train.GradientDescentOptimizer(0.5).minimize(cross_entropy)\n",
    "for _ in range(1000):\n",
    "    batch = mnist.train.next_batch(100)\n",
    "    train_step.run(feed_dict = {x: batch[0], y_true: batch[1]}) # feed_dict can replace anything, not just placeholders"
   ]
  },
  {
   "cell_type": "code",
   "execution_count": 12,
   "metadata": {},
   "outputs": [
    {
     "name": "stdout",
     "output_type": "stream",
     "text": [
      "0.9163\n"
     ]
    }
   ],
   "source": [
    "# tf.argmax(var, dim) returns the index of the max of tensor var along dimension dim\n",
    "correct_preds = tf.equal(tf.argmax(y_pred, 1), tf.argmax(y_true, 1)) # max along the 10 columns of y, elementwise equal\n",
    "accuracy = tf.reduce_mean(tf.cast(correct_preds, tf.float32)) # cast True/False to 1/0\n",
    "# notice how we maintain access to variables y_pred and y_true outside of the model\n",
    "print accuracy.eval(feed_dict={x: mnist.test.images, y_true: mnist.test.labels}) # run the model\n",
    "# it knows to forward propate the data to find y_pred again before computing accuracy"
   ]
  },
  {
   "cell_type": "code",
   "execution_count": null,
   "metadata": {
    "collapsed": true
   },
   "outputs": [],
   "source": [
    "# Let's do better with a convolutional neural network instead of linear regression model\n"
   ]
  }
 ],
 "metadata": {
  "kernelspec": {
   "display_name": "Python 2",
   "language": "python",
   "name": "python2"
  },
  "language_info": {
   "codemirror_mode": {
    "name": "ipython",
    "version": 2
   },
   "file_extension": ".py",
   "mimetype": "text/x-python",
   "name": "python",
   "nbconvert_exporter": "python",
   "pygments_lexer": "ipython2",
   "version": "2.7.6"
  }
 },
 "nbformat": 4,
 "nbformat_minor": 2
}
