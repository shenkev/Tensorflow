{
 "cells": [
  {
   "cell_type": "code",
   "execution_count": 1,
   "metadata": {},
   "outputs": [
    {
     "name": "stdout",
     "output_type": "stream",
     "text": [
      "Extracting MNIST_data\\train-images-idx3-ubyte.gz\n",
      "Extracting MNIST_data\\train-labels-idx1-ubyte.gz\n",
      "Extracting MNIST_data\\t10k-images-idx3-ubyte.gz\n",
      "Extracting MNIST_data\\t10k-labels-idx1-ubyte.gz\n"
     ]
    }
   ],
   "source": [
    "from tensorflow.examples.tutorials.mnist import input_data\n",
    "mnist = input_data.read_data_sets('MNIST_data', one_hot=True)"
   ]
  },
  {
   "cell_type": "code",
   "execution_count": 20,
   "metadata": {
    "collapsed": true
   },
   "outputs": [],
   "source": [
    "import tensorflow as tf\n",
    "import numpy as np\n",
    "import time\n",
    "\n",
    "sess = tf.Session()"
   ]
  },
  {
   "cell_type": "code",
   "execution_count": 3,
   "metadata": {
    "collapsed": true
   },
   "outputs": [],
   "source": [
    "X = tf.placeholder(tf.float32, shape=[None, 784])\n",
    "y_true = tf.placeholder(tf.float32, shape=[None, 10])"
   ]
  },
  {
   "cell_type": "code",
   "execution_count": 4,
   "metadata": {},
   "outputs": [],
   "source": [
    "# need to initialize weights for many layers in convolution nn\n",
    "def init_weight(shape):\n",
    "    init = tf.truncated_normal(shape, stddev=0.1)\n",
    "    return tf.Variable(init)\n",
    "\n",
    "def init_bias(shape):\n",
    "    init = tf.constant(0.1, shape=shape)\n",
    "    return tf.Variable(init)"
   ]
  },
  {
   "cell_type": "code",
   "execution_count": null,
   "metadata": {},
   "outputs": [],
   "source": [
    "a = init_bias([1, 5])\n",
    "b = init_weight([2, 2])\n",
    "\n",
    "\n",
    "sess.run(tf.global_variables_initializer())\n",
    "sess.run([a, b])"
   ]
  },
  {
   "cell_type": "code",
   "execution_count": 5,
   "metadata": {},
   "outputs": [],
   "source": [
    "# X is 4d tensor with dimensions: [batch, image_height, image_width, image_channels]\n",
    "# W is 4d tensor with dimensions: [window_height, window_width, image_channels, nextlayer_channels]\n",
    "# strides is teh stride of the 4 dimensions of X\n",
    "def conv2d(X, W):\n",
    "    return tf.nn.conv2d(X, W, strides=[1, 1, 1, 1], padding='SAME') \n",
    "# first and last stride # are always 1, first to make sure no data points in batch are skipped, idk what second does\n",
    "\n",
    "def max_pool_2x2(Z):\n",
    "    return tf.nn.max_pool(Z, ksize=[1, 2, 2, 1], strides=[1, 2, 2, 1], padding='SAME') \n",
    "# ksize is window size of pooling, strides is set so we dont overlap windows\n",
    "\n",
    "def relu(Z):\n",
    "    return tf.nn.relu(Z)\n",
    "\n",
    "def dropout(Z, prob):\n",
    "    return tf.nn.dropout(Z, prob)"
   ]
  },
  {
   "cell_type": "code",
   "execution_count": 9,
   "metadata": {
    "collapsed": true
   },
   "outputs": [],
   "source": [
    "X_image = tf.reshape(X, [-1, 28, 28, 1])"
   ]
  },
  {
   "cell_type": "code",
   "execution_count": 10,
   "metadata": {
    "collapsed": true
   },
   "outputs": [],
   "source": [
    "W_1 = init_weight([5, 5, 1, 32])\n",
    "b_1 = init_bias([32])"
   ]
  },
  {
   "cell_type": "code",
   "execution_count": 11,
   "metadata": {},
   "outputs": [],
   "source": [
    "l_1 = conv2d(X_image, W_1) + b_1\n",
    "r_1 = relu(l_1)\n",
    "p_1 = max_pool_2x2(r_1) # this reduces each dimension by 2, so image is 14x14"
   ]
  },
  {
   "cell_type": "code",
   "execution_count": 12,
   "metadata": {},
   "outputs": [],
   "source": [
    "W_2 = init_weight([5, 5, 32, 64])\n",
    "b_2 = init_bias([64])"
   ]
  },
  {
   "cell_type": "code",
   "execution_count": 13,
   "metadata": {
    "collapsed": true
   },
   "outputs": [],
   "source": [
    "l_2 = conv2d(p_1, W_2) + b_2\n",
    "r_2 = relu(l_2)\n",
    "p_2 = max_pool_2x2(r_2) # this reduces each dimension by 2, so image is 7x7"
   ]
  },
  {
   "cell_type": "code",
   "execution_count": 14,
   "metadata": {
    "collapsed": true
   },
   "outputs": [],
   "source": [
    "volume = 7*7*64\n",
    "W_3 = init_weight([volume, 1024])\n",
    "b_3 = init_bias([1024])"
   ]
  },
  {
   "cell_type": "code",
   "execution_count": 15,
   "metadata": {},
   "outputs": [],
   "source": [
    "p_2_flat = tf.reshape(p_2, [-1, volume]) # I wonder how it gets the dimensions right\n",
    "z_4 = tf.matmul(p_2_flat, W_3) + b_3\n",
    "r_4 = relu(z_4)\n",
    "# [batch, ih, iw, ic]\n",
    "# [] data point\n",
    "# () vertical dimension\n",
    "# {} horizontal dimension\n",
    "# [] depth dimension\n",
    "# [ [({col1row1[values along depth]col1row2[values along depth]}{[][]})({[][]}{[][]})], [({}{})({}{})]]"
   ]
  },
  {
   "cell_type": "code",
   "execution_count": 16,
   "metadata": {},
   "outputs": [],
   "source": [
    "keep_prob = tf.placeholder(tf.float32)\n",
    "dropped = dropout(r_4, keep_prob)"
   ]
  },
  {
   "cell_type": "code",
   "execution_count": 17,
   "metadata": {
    "collapsed": true
   },
   "outputs": [],
   "source": [
    "W_4 = init_weight([1024, 10])\n",
    "b_4 = init_bias([10])\n",
    "\n",
    "pred = tf.matmul(dropped, W_4) + b_4"
   ]
  },
  {
   "cell_type": "code",
   "execution_count": 18,
   "metadata": {},
   "outputs": [],
   "source": [
    "cross_entropy = tf.reduce_mean(tf.nn.softmax_cross_entropy_with_logits(labels=y_true, logits=pred))\n",
    "train_step = tf.train.AdamOptimizer(1e-4).minimize(cross_entropy)\n",
    "\n",
    "correct_pred = tf.equal(tf.argmax(pred, 1), tf.argmax(y_true, 1))\n",
    "accuracy = tf.reduce_mean(tf.cast(correct_pred, tf.float32))"
   ]
  },
  {
   "cell_type": "code",
   "execution_count": null,
   "metadata": {},
   "outputs": [
    {
     "name": "stdout",
     "output_type": "stream",
     "text": [
      "step 0, training accuracy 0.1, took 0.00 secs\n",
      "step 100, training accuracy 0.92, took 9.93 secs\n",
      "step 200, training accuracy 0.84, took 9.84 secs\n",
      "step 300, training accuracy 0.88, took 9.50 secs\n",
      "step 400, training accuracy 0.94, took 9.45 secs\n",
      "step 500, training accuracy 0.9, took 9.41 secs\n",
      "step 600, training accuracy 0.98, took 9.42 secs\n",
      "step 700, training accuracy 0.96, took 9.99 secs\n",
      "step 800, training accuracy 0.92, took 9.49 secs\n",
      "step 900, training accuracy 0.98, took 9.39 secs\n",
      "step 1000, training accuracy 1, took 9.75 secs\n",
      "step 1100, training accuracy 1, took 9.44 secs\n",
      "step 1200, training accuracy 0.96, took 9.46 secs\n",
      "step 1300, training accuracy 0.96, took 9.50 secs\n",
      "step 1400, training accuracy 0.96, took 9.70 secs\n",
      "step 1500, training accuracy 0.98, took 9.46 secs\n",
      "step 1600, training accuracy 0.94, took 9.58 secs\n",
      "step 1700, training accuracy 0.94, took 9.59 secs\n",
      "step 1800, training accuracy 0.96, took 9.89 secs\n",
      "step 1900, training accuracy 0.94, took 9.40 secs\n",
      "step 2000, training accuracy 0.94, took 9.43 secs\n",
      "step 2100, training accuracy 0.98, took 9.43 secs\n",
      "step 2200, training accuracy 0.96, took 9.39 secs\n",
      "step 2300, training accuracy 0.98, took 9.39 secs\n"
     ]
    }
   ],
   "source": [
    "with tf.Session() as sess:\n",
    "    sess.run(tf.global_variables_initializer())\n",
    "    steps = 20000\n",
    "    start = time.time()\n",
    "    for i in range(steps):\n",
    "        batch = mnist.train.next_batch(50)\n",
    "        if i % 100 == 0:\n",
    "            time_per_100 = time.time() - start\n",
    "            start = time.time()\n",
    "            train_accuracy = accuracy.eval(feed_dict={X: batch[0], y_true: batch[1], keep_prob: 1.0})\n",
    "            print('step %d, training accuracy %g, took %.2f secs' % (i, train_accuracy, time_per_100))\n",
    "        train_step.run(feed_dict={X: batch[0], y_true: batch[1], keep_prob: 0.5})\n",
    "        \n",
    "    print('test accuracy %g' % accuracy.eval(feed_dict={\n",
    "      X: mnist.test.images, y_true: mnist.test.labels, keep_prob: 1.0}))"
   ]
  }
 ],
 "metadata": {
  "kernelspec": {
   "display_name": "Python 3",
   "language": "python",
   "name": "python3"
  },
  "language_info": {
   "codemirror_mode": {
    "name": "ipython",
    "version": 3
   },
   "file_extension": ".py",
   "mimetype": "text/x-python",
   "name": "python",
   "nbconvert_exporter": "python",
   "pygments_lexer": "ipython3",
   "version": "3.5.2"
  }
 },
 "nbformat": 4,
 "nbformat_minor": 2
}
